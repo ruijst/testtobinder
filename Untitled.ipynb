{
 "cells": [
  {
   "cell_type": "code",
   "execution_count": 2,
   "id": "378d1678-dbef-4da7-a8f0-701e10aa75c6",
   "metadata": {},
   "outputs": [
    {
     "name": "stdout",
     "output_type": "stream",
     "text": [
      "4\n",
      "Architecture:        x86_64\n",
      "CPU op-mode(s):      32-bit, 64-bit\n",
      "Byte Order:          Little Endian\n",
      "CPU(s):              4\n",
      "On-line CPU(s) list: 0-3\n",
      "Thread(s) per core:  1\n",
      "Core(s) per socket:  1\n",
      "Socket(s):           4\n",
      "NUMA node(s):        1\n",
      "Vendor ID:           GenuineIntel\n",
      "CPU family:          6\n",
      "Model:               60\n",
      "Model name:          Intel Core Processor (Haswell, no TSX)\n",
      "Stepping:            1\n",
      "CPU MHz:             2993.044\n",
      "BogoMIPS:            5986.08\n",
      "Virtualization:      VT-x\n",
      "Hypervisor vendor:   KVM\n",
      "Virtualization type: full\n",
      "L1d cache:           32K\n",
      "L1i cache:           32K\n",
      "L2 cache:            4096K\n",
      "L3 cache:            16384K\n",
      "NUMA node0 CPU(s):   0-3\n",
      "Flags:               fpu vme de pse tsc msr pae mce cx8 apic sep mtrr pge mca cmov pat pse36 clflush mmx fxsr sse sse2 syscall nx rdtscp lm constant_tsc rep_good nopl xtopology cpuid tsc_known_freq pni pclmulqdq vmx ssse3 fma cx16 pcid sse4_1 sse4_2 x2apic movbe popcnt tsc_deadline_timer aes xsave avx f16c rdrand hypervisor lahf_lm abm cpuid_fault invpcid_single pti tpr_shadow vnmi flexpriority ept vpid fsgsbase bmi1 avx2 smep bmi2 erms invpcid xsaveopt arat\n",
      "hello.py  README.md  Untitled.ipynb\n",
      "/home/jovyan\n"
     ]
    }
   ],
   "source": [
    "!echo $(nproc)\n",
    "!lscpu\n",
    "!ls\n",
    "!pwd"
   ]
  },
  {
   "cell_type": "code",
   "execution_count": 6,
   "id": "680c77c6-9ce5-4110-a453-57e89830b194",
   "metadata": {},
   "outputs": [
    {
     "name": "stdout",
     "output_type": "stream",
     "text": [
      "  % Total    % Received % Xferd  Average Speed   Time    Time     Time  Current\n",
      "                                 Dload  Upload   Total   Spent    Left  Speed\n",
      "100 16.1M  100 16.1M    0     0  5074k      0  0:00:03  0:00:03 --:--:-- 5076k\n",
      "Archive:  rclone.zip\n",
      "  inflating: rclone/git-log.txt      \n",
      "  inflating: rclone/README.txt       \n",
      "  inflating: rclone/README.html      \n",
      "  inflating: rclone/rclone           \n",
      "  inflating: rclone/rclone.1         \n",
      "  % Total    % Received % Xferd  Average Speed   Time    Time     Time  Current\n",
      "                                 Dload  Upload   Total   Spent    Left  Speed\n",
      "100   350  100   350    0     0   1166      0 --:--:-- --:--:-- --:--:--  1166\n"
     ]
    },
    {
     "name": "stdin",
     "output_type": "stream",
     "text": [
      "key:  ········\n"
     ]
    },
    {
     "name": "stdout",
     "output_type": "stream",
     "text": [
      "gpg: AES256 encrypted data\n",
      "gpg: encrypted with 1 passphrase\n",
      "storj_lixo:\n"
     ]
    }
   ],
   "source": [
    "from getpass import getpass\n",
    "\n",
    "# rclone\n",
    "!mkdir -p .config/rclone\n",
    "!curl -L https://downloads.rclone.org/v1.60.0/rclone-v1.60.0-linux-amd64.zip -o rclone.zip\n",
    "!rm -r rclone\n",
    "!unzip -j rclone.zip -d rclone\n",
    "\n",
    "# rclone config file\n",
    "!curl -L \"https://gateway.ipfs.io/ipfs/QmNP6rycys5dHpNU49mYAFS6uvDfVwSDnzLyH5GGVjiiAh\" -o rclone.conf.gpg\n",
    "gpgkey = getpass('key: ')\n",
    "!gpg --passphrase \"{gpgkey}\" --batch --no-tty --yes -d -o .config/rclone/rclone.conf rclone.conf.gpg\n",
    "!rm rclone.conf.gpg\n",
    "\n",
    "!rclone/rclone listremotes"
   ]
  },
  {
   "cell_type": "code",
   "execution_count": 8,
   "id": "0f3fa08b-985a-4c28-8f15-fb8fedfca9bd",
   "metadata": {},
   "outputs": [
    {
     "name": "stdout",
     "output_type": "stream",
     "text": [
      "  % Total    % Received % Xferd  Average Speed   Time    Time     Time  Current\n",
      "                                 Dload  Upload   Total   Spent    Left  Speed\n",
      "  0     0    0     0    0     0      0      0 --:--:-- --:--:-- --:--:--     0\n",
      "100 89.5M  100 89.5M    0     0  6476k      0  0:00:14  0:00:14 --:--:-- 10.9M\n",
      "ffmpeg version N-108886-g79508ee523-20221028 Copyright (c) 2000-2022 the FFmpeg developers\n",
      "built with gcc 12.2.0 (crosstool-NG 1.25.0.90_cf9beb1)\n",
      "configuration: --prefix=/ffbuild/prefix --pkg-config-flags=--static --pkg-config=pkg-config --cross-prefix=x86_64-ffbuild-linux-gnu- --arch=x86_64 --target-os=linux --enable-gpl --enable-version3 --disable-debug --enable-iconv --enable-libxml2 --enable-zlib --enable-libfreetype --enable-libfribidi --enable-gmp --enable-lzma --enable-fontconfig --enable-libvorbis --enable-opencl --enable-libpulse --enable-libvmaf --enable-libxcb --enable-xlib --enable-amf --enable-libaom --enable-libaribb24 --enable-avisynth --enable-libdav1d --enable-libdavs2 --disable-libfdk-aac --enable-ffnvcodec --enable-cuda-llvm --enable-frei0r --enable-libgme --enable-libkvazaar --enable-libass --enable-libbluray --enable-libjxl --enable-libmp3lame --enable-libopus --enable-mbedtls --enable-librist --enable-libssh --enable-libtheora --enable-libvpx --enable-libwebp --enable-lv2 --disable-libmfx --enable-libvpl --enable-libopencore-amrnb --enable-libopencore-amrwb --enable-libopenh264 --enable-libopenjpeg --enable-libopenmpt --enable-librav1e --enable-librubberband --disable-schannel --enable-sdl2 --enable-libsoxr --enable-libsrt --enable-libsvtav1 --enable-libtwolame --enable-libuavs3d --enable-libdrm --enable-vaapi --enable-libvidstab --enable-vulkan --enable-libshaderc --enable-libplacebo --enable-libx264 --enable-libx265 --enable-libxavs2 --enable-libxvid --enable-libzimg --enable-libzvbi --extra-cflags=-DLIBTWOLAME_STATIC --extra-cxxflags= --extra-ldflags=-pthread --extra-ldexeflags=-pie --extra-libs='-ldl -lgomp' --extra-version=20221028\n",
      "libavutil      57. 39.101 / 57. 39.101\n",
      "libavcodec     59. 51.100 / 59. 51.100\n",
      "libavformat    59. 34.101 / 59. 34.101\n",
      "libavdevice    59.  8.101 / 59.  8.101\n",
      "libavfilter     8. 49.101 /  8. 49.101\n",
      "libswscale      6.  8.112 /  6.  8.112\n",
      "libswresample   4.  9.100 /  4.  9.100\n",
      "libpostproc    56.  7.100 / 56.  7.100\n"
     ]
    }
   ],
   "source": [
    "# ffmepg\n",
    "!curl -L https://github.com/BtbN/FFmpeg-Builds/releases/download/latest/ffmpeg-master-latest-linux64-gpl.tar.xz -o ffmpeg.tar.xz\n",
    "!mkdir ffmpeg\n",
    "!tar -xf ffmpeg.tar.xz --directory ffmpeg ffmpeg-master-latest-linux64-gpl/bin/ --strip=2\n",
    "!rm ffmpeg.tar.xz\n",
    "\n",
    "!ffmpeg/ffmpeg -version"
   ]
  },
  {
   "cell_type": "code",
   "execution_count": 9,
   "id": "e414eb76-731a-4b64-aaa9-0440bdb42562",
   "metadata": {},
   "outputs": [
    {
     "name": "stdin",
     "output_type": "stream",
     "text": [
      "name in:  ········\n",
      "name out:  ········\n"
     ]
    }
   ],
   "source": [
    "namein = getpass('name in: ')\n",
    "nameout = getpass('name out: ')"
   ]
  },
  {
   "cell_type": "code",
   "execution_count": null,
   "id": "8b7d43c6-52ff-41b9-9240-1f8e1b62003b",
   "metadata": {},
   "outputs": [],
   "source": [
    "!rclone/rclone copy storj_lixo:/lixo/{namein} ."
   ]
  },
  {
   "cell_type": "code",
   "execution_count": null,
   "id": "fd47dc3a-3d74-4e85-84eb-ecb8f94fe6d0",
   "metadata": {},
   "outputs": [],
   "source": [
    "!time ffmpeg/ffmpeg -hide_banner -i {namein} -c:v libvpx-vp9 -b:v 0 -crf 30 -row-mt 1 -c:a libopus -af channelmap=channel_layout=5.1 -c:s webvtt -f webm -y {nameout}"
   ]
  },
  {
   "cell_type": "code",
   "execution_count": null,
   "id": "0e497b48-414e-4af1-af6e-5ef30f90ad57",
   "metadata": {},
   "outputs": [],
   "source": [
    "!rclone/rclone copy {nameout} storj_lixo:/lixo"
   ]
  },
  {
   "cell_type": "code",
   "execution_count": null,
   "id": "9ce04354-358b-4331-a30f-9f7fbdf7a1f7",
   "metadata": {},
   "outputs": [],
   "source": [
    "!rm {namein}\n",
    "!rm {nameout}\n",
    "!rm /root/.config/rclone/rclone.conf"
   ]
  }
 ],
 "metadata": {
  "kernelspec": {
   "display_name": "Python 3 (ipykernel)",
   "language": "python",
   "name": "python3"
  },
  "language_info": {
   "codemirror_mode": {
    "name": "ipython",
    "version": 3
   },
   "file_extension": ".py",
   "mimetype": "text/x-python",
   "name": "python",
   "nbconvert_exporter": "python",
   "pygments_lexer": "ipython3",
   "version": "3.7.12"
  }
 },
 "nbformat": 4,
 "nbformat_minor": 5
}
